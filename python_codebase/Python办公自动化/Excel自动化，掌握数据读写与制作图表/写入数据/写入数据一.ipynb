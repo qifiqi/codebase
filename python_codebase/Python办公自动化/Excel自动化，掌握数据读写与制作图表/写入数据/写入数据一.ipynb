{
 "cells": [
  {
   "cell_type": "markdown",
   "id": "88e7620b",
   "metadata": {},
   "source": [
    "# 写入xlsx文件"
   ]
  },
  {
   "cell_type": "code",
   "execution_count": 8,
   "id": "6ef80cab",
   "metadata": {},
   "outputs": [
    {
     "name": "stdout",
     "output_type": "stream",
     "text": [
      "['Sheet']\n",
      "['table_1']\n",
      "['table_1', 'table_3']\n",
      "['table_1', 'table_2', 'table_3']\n",
      "['table_2', 'table_3']\n"
     ]
    }
   ],
   "source": [
    "import openpyxl\n",
    "#  创建工作簿对象\n",
    "wd = openpyxl.Workbook()\n",
    "# 获取工作表名称\n",
    "print(wd.sheetnames)\n",
    "# 获取活动表\n",
    "sheet = wd.active\n",
    "# 给工作表设置名称\n",
    "sheet.title=\"table_1\"\n",
    "print(wd.sheetnames)\n",
    "# 添加工作表\n",
    "wd.create_sheet(title=\"table_3\")\n",
    "print(wd.sheetnames)\n",
    "# 指定地点添加工作表\n",
    "wd.create_sheet(index=1,title=\"table_2\")\n",
    "print(wd.sheetnames)\n",
    "# 删除工作表\n",
    "del wd[\"table_1\"]\n",
    "print(wd.sheetnames)\n",
    "# 获取指定工作表写到指定地点\n",
    "sheet1 = wd[\"table_2\"]\n",
    "# 在A1地区插入a1\n",
    "sheet1[\"A1\"] = \"a1\"\n",
    "sheet1[\"B1\"] = \"B1\"\n",
    "# 保存\n",
    "wd.save(\"./xlsx_1.xlsx\")"
   ]
  },
  {
   "cell_type": "markdown",
   "id": "f515cde8",
   "metadata": {},
   "source": [
    "# 字体样式"
   ]
  },
  {
   "cell_type": "code",
   "execution_count": 17,
   "id": "7455e569",
   "metadata": {},
   "outputs": [],
   "source": [
    "from openpyxl.styles import Font\n",
    "import openpyxl\n",
    "wb = openpyxl.Workbook()\n",
    "sheet = wb.active\n",
    "sheet[\"A1\"] = \"楷体\"\n",
    "sheet[\"A2\"] = \"楷体20\"\n",
    "sheet[\"A3\"]=\"我有颜色哦\"\n",
    "# 设置字体是楷体，\n",
    "sheet[\"A1\"].font = Font(name=\"楷体\")\n",
    "# 设置字体，大小，斜体，下划线，加粗\n",
    "sheet[\"A2\"].font = Font(\n",
    "    name=\"楷体\",# 字体\n",
    "    size=20,# 大小\n",
    "    italic=True,# 斜体\n",
    "    underline=\"single\",# 下划线\n",
    "    bold=True,#  加粗\n",
    ")\n",
    "sheet[\"A3\"].font = Font(color=\"8470FF\")# 这里要RGB：16进制 字体颜色\n",
    "\n",
    "wb.save(\"./字体样式.xlsx\")"
   ]
  },
  {
   "cell_type": "markdown",
   "id": "8360fee9",
   "metadata": {},
   "source": [
    "# 单元格背景样式"
   ]
  },
  {
   "cell_type": "code",
   "execution_count": 19,
   "id": "503e70cc",
   "metadata": {},
   "outputs": [],
   "source": [
    "from openpyxl.styles import PatternFill\n",
    "import openpyxl\n",
    "wb = openpyxl.Workbook()\n",
    "sheet = wb.active\n",
    "# 背景色填充\n",
    "sheet[\"A1\"] = \"背景色填充\"\n",
    "sheet[\"A1\"].fill= PatternFill(patternType=\"solid\", # 设置填充样式\n",
    "                               fgColor=\"8470FF\" #要16进制RGB\n",
    "                              )\n",
    "wb.save(\"./背景样式.xlsx\")"
   ]
  },
  {
   "cell_type": "markdown",
   "id": "97fb8ef4",
   "metadata": {},
   "source": [
    "# 设置单元格边框样式\n",
    "步骤\n",
    "```python\n",
    "1.创建一个side对象，然后设置一下边框的样式的颜色\n",
    "2.设置border属性 给他赋值一个Border对象，并可以设置上下左右边框的side\n",
    "\n",
    "\n",
    "```"
   ]
  },
  {
   "cell_type": "code",
   "execution_count": 21,
   "id": "ac55b415",
   "metadata": {},
   "outputs": [],
   "source": [
    "from openpyxl.styles import Side,Border\n",
    "import openpyxl\n",
    "wb = openpyxl.Workbook()\n",
    "sheet = wb.active\n",
    "sheet[\"A5\"] = \"A5\" \n",
    "sheet[\"C5\"] = \"C5\"\n",
    "s1 = Side(style=\"thin\",color=\"8470FF\")\n",
    "s2 = Side(style=\"double\",color=\"ff0000\")\n",
    "sheet[\"A5\"].border = Border(top=s1)\n",
    "sheet[\"C5\"].border = Border(top=s2,bottom=s1,left=s2,right=s1)\n",
    "wb.save(\"./单元格边框样式.xlsx\")"
   ]
  },
  {
   "cell_type": "markdown",
   "id": "299fb5c8",
   "metadata": {},
   "source": [
    "# 设置单元格的对齐方式\n",
    "```python\n",
    "单元格对齐方式：\n",
    "    使用Alignment 类\n",
    "    horizontal = {'general', 'right', 'centerContinuous', 'distributed', 'center', 'justify', 'fill', 'left'}\n",
    "    vertical = {'top', 'distributed', 'bottom', 'center', 'justify'}\n",
    "\n",
    "```"
   ]
  },
  {
   "cell_type": "code",
   "execution_count": 25,
   "id": "7b969628",
   "metadata": {},
   "outputs": [],
   "source": [
    "from openpyxl.styles import Alignment\n",
    "import openpyxl\n",
    "wb = openpyxl.load_workbook(\"./xlsx_1.xlsx\")\n",
    "sheet = wb.active\n",
    "\n",
    "sheet[\"A1\"].alignment = Alignment(horizontal=\"right\")\n",
    "sheet[\"B1\"].alignment = Alignment(vertical=\"center\")\n",
    "sheet[\"C1\"].alignment = Alignment(vertical=\"top\")\n",
    "\n",
    "wb.save(\"./单元格对齐.xlsx\")"
   ]
  },
  {
   "cell_type": "code",
   "execution_count": null,
   "id": "160fb82e",
   "metadata": {},
   "outputs": [],
   "source": []
  }
 ],
 "metadata": {
  "kernelspec": {
   "display_name": "Python 3 (ipykernel)",
   "language": "python",
   "name": "python3"
  },
  "language_info": {
   "codemirror_mode": {
    "name": "ipython",
    "version": 3
   },
   "file_extension": ".py",
   "mimetype": "text/x-python",
   "name": "python",
   "nbconvert_exporter": "python",
   "pygments_lexer": "ipython3",
   "version": "3.9.13"
  }
 },
 "nbformat": 4,
 "nbformat_minor": 5
}
