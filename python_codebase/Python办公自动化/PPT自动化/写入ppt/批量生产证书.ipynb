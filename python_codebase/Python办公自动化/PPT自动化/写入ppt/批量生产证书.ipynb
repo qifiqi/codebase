{
 "cells": [
  {
   "cell_type": "markdown",
   "id": "cb9b197c",
   "metadata": {},
   "source": [
    "```python\n",
    "eexecl中提取数据\n",
    "导入pptx中\n",
    "保存为学生姓名.pptx文件\n",
    "```\n"
   ]
  },
  {
   "cell_type": "code",
   "execution_count": 15,
   "id": "e614b0cd",
   "metadata": {},
   "outputs": [
    {
     "name": "stdout",
     "output_type": "stream",
     "text": [
      "10 2022 11\n"
     ]
    }
   ],
   "source": [
    "import os\n",
    "import openpyxl\n",
    "from datetime import datetime\n",
    "from pptx import Presentation\n",
    "data = []\n",
    "# 导入数据集\n",
    "# 这里读出来的时间就是datatime类型 \n",
    "wb = openpyxl.load_workbook('./数据.xlsx')\n",
    "sheet = wb.active\n",
    "# 读取数据\n",
    "for row in range(2,sheet.max_row+1):\n",
    "    col_list = []\n",
    "    for col in range(1,sheet.max_column+1):\n",
    "        col_list.append(sheet.cell(row,col).value)\n",
    "    data.append(col_list)\n",
    "# 读取模板\n",
    "pre = Presentation(\"./模板.pptx\")\n",
    "# 读取幻灯片\n",
    "slide = pre.slides[0]\n",
    "shapes = slide.shapes # 获取所有的形状\n",
    "newdate = datetime.now()\n",
    "for item in data:\n",
    "    shapes[0].text_frame.text = str(item[0])\n",
    "    shapes[1].text_frame.text = str(item[1].year)\n",
    "    shapes[2].text_frame.text = str(item[1].month)\n",
    "    shapes[3].text_frame.text = str(item[2])\n",
    "    shapes[4].text_frame.text = str(newdate.year)\n",
    "    shapes[5].text_frame.text = str(newdate.month)\n",
    "    shapes[6].text_frame.text = str(newdate.day)\n",
    "    pre.save(f\"./证书/{item[0]}.pptx\") \n",
    "        "
   ]
  },
  {
   "cell_type": "code",
   "execution_count": null,
   "id": "66121fb2",
   "metadata": {},
   "outputs": [],
   "source": []
  }
 ],
 "metadata": {
  "kernelspec": {
   "display_name": "Python 3 (ipykernel)",
   "language": "python",
   "name": "python3"
  },
  "language_info": {
   "codemirror_mode": {
    "name": "ipython",
    "version": 3
   },
   "file_extension": ".py",
   "mimetype": "text/x-python",
   "name": "python",
   "nbconvert_exporter": "python",
   "pygments_lexer": "ipython3",
   "version": "3.9.13"
  }
 },
 "nbformat": 4,
 "nbformat_minor": 5
}
