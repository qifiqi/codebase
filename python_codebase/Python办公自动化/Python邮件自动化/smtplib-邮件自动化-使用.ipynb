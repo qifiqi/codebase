{
 "cells": [
  {
   "cell_type": "markdown",
   "id": "c02881f0",
   "metadata": {},
   "source": [
    "# 发送普通邮件\n",
    "\n",
    "- 代码解释：\n",
    "\n",
    "    首先分别 import smtplib 和 email 模块，利用 email 模块构建邮件数据，包括邮件标题、内容、发件人、收件人。邮件数据准备就绪后，通过 smtplib 模块构建 smtp 对象，将收件人、发件人、邮件内容传递进去，调用 sendmail () 方法实现邮件发送，执行完成后，打开收件邮件即可收到第一封邮件，如下图所示：\n",
    "    \n",
    "- smtplib:host_server要使用smtp的地址\n"
   ]
  },
  {
   "cell_type": "code",
   "execution_count": 7,
   "id": "aaff3462",
   "metadata": {},
   "outputs": [
    {
     "data": {
      "text/plain": [
       "{}"
      ]
     },
     "execution_count": 7,
     "metadata": {},
     "output_type": "execute_result"
    }
   ],
   "source": [
    "#导入stmplib与email模块\n",
    "import smtplib # sendmail () 方法实现邮件发送，\n",
    "from email.mime.text import MIMEText # email 模块构建邮件数据\n",
    "host_server='smtp.163.com' #初始化主机地址\n",
    "#发件人邮箱\n",
    "sender=\"xiaofu_base@163.com\"\n",
    "#发件人邮箱授权码\n",
    "code=\"YNROKFTURMKUMNMQ\"\n",
    "#收件人邮箱\n",
    "user=\"2737454073@qq.com\"\n",
    "#准备邮件数据\n",
    "#邮件标题\n",
    "mail_title=\"第一份邮箱测试\"\n",
    "#邮件发送的内容\n",
    "mail_content=\"代码解释：首先分别 import smtplib 和 email 模块，利用 email 模块构建邮件数据，包括邮件标题、内容、发件人、收件人。邮件数据准备就绪后，通过 smtplib 模块构建 smtp 对象，将收件人、发件人、邮件内容传递进去，调用 sendmail () 方法实现邮件发送，执行完成后，打开收件邮件即可收到第一封邮件，如下图所示：\"\n",
    "#SMTP\n",
    "smtp=smtplib.SMTP(host=host_server)\n",
    "#登录\n",
    "smtp.login(sender,code)\n",
    "#构建邮件主体内容\n",
    "msg = MIMEText(mail_content, 'plain', 'utf-8')\n",
    "msg['Subject']=mail_title # 标题\n",
    "msg['From']=sender # 发件人\n",
    "msg['To']=user # 收件人\n",
    "#发送邮件\n",
    "smtp.sendmail(sender,user,msg.as_string())\n",
    "smtp.quit() #  关闭"
   ]
  },
  {
   "cell_type": "markdown",
   "id": "97663d21",
   "metadata": {},
   "source": [
    "# 发送 HTML 格式邮件和带附件的邮件\n",
    "上节课我们说到针对不同场景发送邮件也有不同的类型，我们可以大致划分为：\n",
    "- 普通文本邮件；\n",
    "- HTML 格式邮件；\n",
    "- 带附件的邮件。\n",
    "\n",
    "我们已经学习了如何使用 smtplib 和 email 模块发送普通文本邮件，这节课我们来学习下如何发送 HTML 格式邮件和为邮件添加附件。"
   ]
  },
  {
   "cell_type": "code",
   "execution_count": 10,
   "id": "928cbf03",
   "metadata": {},
   "outputs": [
    {
     "data": {
      "text/plain": [
       "{}"
      ]
     },
     "execution_count": 10,
     "metadata": {},
     "output_type": "execute_result"
    }
   ],
   "source": [
    "import smtplib\n",
    "from email.mime.text import MIMEText\n",
    "host_server='smtp.163.com' #初始化主机地址\n",
    "#发件人邮箱\n",
    "sender=\"xiaofu_base@163.com\"\n",
    "#发件人邮箱授权码\n",
    "code=\"YNROKFTURMKUMNMQ\"\n",
    "#收件人邮箱\n",
    "user=\"2737454073@qq.com\"\n",
    "# 准备邮件数据\n",
    "# 邮件标题\n",
    "mail_title = \"发送html邮件\"\n",
    "# 内容\n",
    "mail_content =open(\"./static/index.html\",\"r\",encoding=\"utf-8\").read()\n",
    "# SMTP\n",
    "smtp = smtplib.SMTP(host_server)\n",
    "# 登录\n",
    "smtp.login(sender, code)\n",
    "# 发送\n",
    "msg = MIMEText(mail_content, 'html', 'utf-8')\n",
    "msg['Subject'] = mail_title\n",
    "msg['From'] = sender\n",
    "msg['To'] = user\n",
    "smtp.sendmail(sender, user, msg.as_string())\n",
    "smtp.quit() #  关闭"
   ]
  },
  {
   "cell_type": "markdown",
   "id": "728105e5",
   "metadata": {},
   "source": [
    "# 3. 带附件邮件介绍\n",
    "电子邮件附件是跟电子邮件一同发出的附带文件，附件包括声音、视频、文档、图片等一系列允许发送的文件（注意.exe 文件不允许发送）。带附件的邮件具体附件位置如下图所示。\n",
    "## 代码解释：\n",
    "在发送普通邮件的代码的基础上，导入 email 模块下 MIMEMultipart 与 MIMEApplication 用于构建附件。首先通过 MIMEApplication 封装附件，newinfo.xlsx 为本地文件名称， data.xlsx 为发送到对方邮箱后所显示的名称。通过 MIMEMultipart 构建带附件的实例，其他内容不变。执行完成后，打开收件邮件即可收到第三封邮件，如下图所示。"
   ]
  },
  {
   "cell_type": "code",
   "execution_count": 14,
   "id": "24db63fd",
   "metadata": {},
   "outputs": [
    {
     "data": {
      "text/plain": [
       "{}"
      ]
     },
     "execution_count": 14,
     "metadata": {},
     "output_type": "execute_result"
    }
   ],
   "source": [
    "import smtplib\n",
    "from email.mime.text import MIMEText\n",
    "from email.mime.multipart import MIMEMultipart # 构建一个有文件的主体\n",
    "from email.mime.application import MIMEApplication # 用于添加文件\n",
    "host_server='smtp.163.com' #初始化主机地址\n",
    "#发件人邮箱\n",
    "sender=\"xiaofu_base@163.com\"\n",
    "#发件人邮箱授权码\n",
    "code=\"YNROKFTURMKUMNMQ\"\n",
    "#收件人邮箱\n",
    "user=\"2737454073@qq.com\"\n",
    "# 准备邮件数据\n",
    "# 邮件标题\n",
    "mail_title = \"第三封邮件\"\n",
    "# 邮件内容\n",
    "mail_content = \"具体请查看附件！\"\n",
    "# SMTP\n",
    "smtp = smtplib.SMTP(host_server)\n",
    "# 登录\n",
    "smtp.login(sender, code)\n",
    "\n",
    "#构建附件，添加一个文件\n",
    "attachment=MIMEApplication(open('./static/aa.txt','rb').read())\n",
    "#为附件添加一个标题\n",
    "attachment.add_header('Content-Disposition','attachment',filename='aa.txt')\n",
    "\n",
    "msg=MIMEMultipart()#构建带附件的实例\n",
    "msg.attach(attachment) # 创建好文件附件对象以后要添加到MIMEMultipart对象中\n",
    "\n",
    "#邮件标题\n",
    "msg['Subject'] = mail_title\n",
    "#发件人\n",
    "msg['From'] = sender\n",
    "#收件人\n",
    "msg['To'] = user\n",
    "# 发送\n",
    "smtp.sendmail(sender, user, msg.as_string())\n",
    "smtp.quit() #  关闭"
   ]
  },
  {
   "cell_type": "code",
   "execution_count": null,
   "id": "7ebf9a44",
   "metadata": {},
   "outputs": [],
   "source": []
  }
 ],
 "metadata": {
  "kernelspec": {
   "display_name": "Python 3 (ipykernel)",
   "language": "python",
   "name": "python3"
  },
  "language_info": {
   "codemirror_mode": {
    "name": "ipython",
    "version": 3
   },
   "file_extension": ".py",
   "mimetype": "text/x-python",
   "name": "python",
   "nbconvert_exporter": "python",
   "pygments_lexer": "ipython3",
   "version": "3.9.13"
  }
 },
 "nbformat": 4,
 "nbformat_minor": 5
}
