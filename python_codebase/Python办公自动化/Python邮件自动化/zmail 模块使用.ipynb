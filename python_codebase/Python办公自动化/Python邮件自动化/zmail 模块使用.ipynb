{
 "cells": [
  {
   "cell_type": "markdown",
   "id": "f30a940a",
   "metadata": {},
   "source": [
    "# 发送邮件"
   ]
  },
  {
   "cell_type": "code",
   "execution_count": 14,
   "id": "5898735a",
   "metadata": {},
   "outputs": [],
   "source": [
    "import zmail\n",
    "mail = {\n",
    "    'subject': '儿砸!', \n",
    "    'content_text': \"\"\"\n",
    "        儿砸，起床啦！！！\n",
    "    \"\"\",\n",
    "#     'attachments': \"./static/index.html\"  # 最好使用绝对路径，若你电脑没有这个文件会造成错误\n",
    "\n",
    "}\n",
    "server = zmail.server('xiaofu_base@163.com', 'YNROKFTURMKUMNMQ')\n",
    "for i in range(10):\n",
    "    server.send_mail([\"2737454073@qq.com\",\"1486918683@qq.com\"], mail)\n",
    "    \n"
   ]
  },
  {
   "cell_type": "code",
   "execution_count": 22,
   "id": "c6497d95",
   "metadata": {},
   "outputs": [
    {
     "name": "stdout",
     "output_type": "stream",
     "text": [
      "邮件主题： 邮件办公，如此轻松！欢迎来到网易邮箱！\n",
      "邮件发送时间： 2022-10-12 09:14:00+08:00\n",
      "发送者： 网易邮箱助手 <mailpublicize@service.netease.com>\n",
      "接收者： xiaofu_base@163.com\n",
      "内容：\n",
      " []\n"
     ]
    }
   ],
   "source": [
    "import zmail\n",
    "server = zmail.server('xiaofu_base@163.com', 'YNROKFTURMKUMNMQ')\n",
    "mail = server.get_latest() # 获取最新的\n",
    "# zmail.show(latest_mail)\n",
    "print(\"邮件主题：\", mail['Subject'])\n",
    "print(\"邮件发送时间：\", mail['Date'])\n",
    "print(\"发送者：\", mail['From'])\n",
    "print(\"接收者：\", mail['To'])\n",
    "print(\"内容：\\n\", mail['content_text'])"
   ]
  },
  {
   "cell_type": "code",
   "execution_count": null,
   "id": "ee786eeb",
   "metadata": {},
   "outputs": [],
   "source": []
  }
 ],
 "metadata": {
  "kernelspec": {
   "display_name": "Python 3 (ipykernel)",
   "language": "python",
   "name": "python3"
  },
  "language_info": {
   "codemirror_mode": {
    "name": "ipython",
    "version": 3
   },
   "file_extension": ".py",
   "mimetype": "text/x-python",
   "name": "python",
   "nbconvert_exporter": "python",
   "pygments_lexer": "ipython3",
   "version": "3.9.13"
  }
 },
 "nbformat": 4,
 "nbformat_minor": 5
}
