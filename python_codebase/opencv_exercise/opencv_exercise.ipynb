{
 "cells": [
  {
   "cell_type": "markdown",
   "id": "e0df3797",
   "metadata": {},
   "source": [
    "# opencv使用\n",
    "## 导入"
   ]
  },
  {
   "cell_type": "code",
   "execution_count": 1,
   "id": "ec37de12",
   "metadata": {},
   "outputs": [],
   "source": [
    "import cv2 as cv"
   ]
  },
  {
   "cell_type": "markdown",
   "id": "5a968f6d",
   "metadata": {},
   "source": [
    "# 读取"
   ]
  },
  {
   "cell_type": "code",
   "execution_count": null,
   "id": "24005aac",
   "metadata": {},
   "outputs": [
    {
     "name": "stdout",
     "output_type": "stream",
     "text": [
      "图片尺寸: (6528, 4896)\n",
      "图片尺寸: (6528, 4896, 3)\n"
     ]
    }
   ],
   "source": [
    "# 读图片\n",
    "img = cv.imread(r'aa.png',0)\n",
    "img1 = cv.imread(r'aa.png',1)\n",
    "\n",
    "# 图片信息\n",
    "print('图片尺寸:', img.shape)\n",
    "print('图片尺寸:', img1.shape)\n",
    "# 显示图片\n",
    "cv.imshow('pic title', img)\n",
    "cv.waitKey(0)\n",
    "# 添加文字\n",
    "cv.putText(img, 'Learn Python with Crossin', (50, 150), cv.FONT_HERSHEY_SIMPLEX, 1, (255, 255, 255), 4)\n",
    "# 保存图片\n",
    "cv.imwrite('img/Lenna_new.png', img)"
   ]
  },
  {
   "cell_type": "markdown",
   "id": "da28cbbe",
   "metadata": {},
   "source": [
    "#  调用摄像头\n",
    "```\n",
    "2.代码解释\n",
    "import cv2 导入opencv库\n",
    "video = cv2.VideoCapture(0)\n",
    "        VideoCapture()中参数是0，表示打开笔记本的内置摄像头\n",
    "        如果想打开一段录制好的视频，就在括号里面输入该视频的路径，如：\n",
    "        video = cv2.VideoCapture('/home/liuze/桌面/ros_py_lane/test.mp4')\n",
    "\n",
    "fps = video.get(cv2.CAP_PROP_FPS)\n",
    "print(fps)\n",
    "        获取视频的帧率，然后查看一下\n",
    "\n",
    "size = (int(video.get(cv2.CAP_PROP_FRAME_WIDTH)), int(video.get(cv2.CAP_PROP_FRAME_HEIGHT)))\n",
    "print(size)\n",
    "        获取图像的尺寸\n",
    "\n",
    "ret, frame = video.read()\n",
    "         video.read()是按帧读取视频，ret,frame是获cap.read()方法的两个返回值。其中ret是bool类型，如果读取帧是正确的则返回True，如果文件读取到结尾，它的返回值就为False。frame就是每一帧的图像，是个三维矩阵\n",
    "\n",
    "cv2.imshow(\"A video\", frame)\n",
    "        按视频帧的形式显示视频\n",
    "c = cv2.waitKey(1)\n",
    "        显示完一帧后要等待多少毫秒显示下一帧，一秒是1000毫秒\n",
    "        我这里参数是1，表示延时1ms切换到下一帧图像\n",
    "        参数为0，如cv2.waitKey(0)只显示当前帧图像，相当于视频暂停\n",
    "        参数过大如cv2.waitKey(1000)，会因为延时过久而卡顿感觉到卡顿\n",
    "if c == 27:\n",
    "    break\n",
    "        c得到的是键盘输入的ASCII码，esc键对应的ASCII码是27，c = cv2.waitKey(1)等待输入一个字符，当输入的字符是esc键（对应的ASCII码是27），即当按esc键，执行if然后程序break就退出\n",
    "video.release()\n",
    "        释放，表示视频结束了\n",
    "cv2.destroyAllWindows()\n",
    "        关闭所有的窗口\n",
    "```\n"
   ]
  },
  {
   "cell_type": "markdown",
   "id": "714425cc",
   "metadata": {},
   "source": [
    "video = cv2.VideoCapture(0)\n",
    "fps = video.get(cv2.CAP_PROP_FPS)\n",
    "print(fps)\n",
    "size = (int(video.get(cv2.CAP_PROP_FRAME_WIDTH)), int(video.get(cv2.CAP_PROP_FRAME_HEIGHT)))\n",
    "print(size)\n",
    "while True:\n",
    "    ret, frame = video.read()\n",
    "    cv2.imshow(\"A video\", frame)\n",
    "    c = cv2.waitKey(1)\n",
    "    if c == 27:\n",
    "        break\n",
    "video.release()\n",
    "cv2.destroyAllWindows()"
   ]
  },
  {
   "cell_type": "code",
   "execution_count": null,
   "id": "677fbb6b",
   "metadata": {},
   "outputs": [],
   "source": []
  }
 ],
 "metadata": {
  "kernelspec": {
   "display_name": "Python 3 (ipykernel)",
   "language": "python",
   "name": "python3"
  },
  "language_info": {
   "codemirror_mode": {
    "name": "ipython",
    "version": 3
   },
   "file_extension": ".py",
   "mimetype": "text/x-python",
   "name": "python",
   "nbconvert_exporter": "python",
   "pygments_lexer": "ipython3",
   "version": "3.9.13"
  }
 },
 "nbformat": 4,
 "nbformat_minor": 5
}
