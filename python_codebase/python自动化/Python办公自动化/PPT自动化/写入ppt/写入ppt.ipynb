{
 "cells": [
  {
   "cell_type": "markdown",
   "id": "bc08129c",
   "metadata": {},
   "source": [
    "# 创建一个ppt文件"
   ]
  },
  {
   "cell_type": "code",
   "execution_count": 10,
   "id": "58f80fee",
   "metadata": {},
   "outputs": [],
   "source": [
    "from pptx import Presentation\n",
    "# 新建PPT\n",
    "prs = Presentation()\n",
    "# 添加一个幻灯片使用0号板式\n",
    "slide = prs.slides.add_slide(prs.slide_layouts[0])\n",
    "shape = slide.placeholders\n",
    "# 添加数据\n",
    "shape[0].text = \"第一个文本框数据\"\n",
    "shape[1].text = \"副标题数据\"\n",
    "# 保存数据层\n",
    "prs.save(\"写入ppt.pptx\")\n",
    "    \n"
   ]
  },
  {
   "cell_type": "code",
   "execution_count": 13,
   "id": "1624c5f2",
   "metadata": {},
   "outputs": [],
   "source": [
    "# 写入ppt加入层级\n",
    "\n",
    "from pptx import Presentation\n",
    "# 新建PPT\n",
    "prs = Presentation()\n",
    "# 添加一个幻灯片使用1号板式\n",
    "slide = prs.slides.add_slide(prs.slide_layouts[1])\n",
    "# 获取形状\n",
    "shapes = slide.shapes\n",
    "\n",
    "# 获取标题和正文\n",
    "title_shapes = shapes.title # 获取标题的形状\n",
    "title_shapes.text = \"写入内容\"\n",
    "\n",
    "body_hape = shapes.placeholders[1] # 获取正文的占位符\n",
    "# 获取正文的文本框\n",
    "tf = body_hape.text_frame # 文本框本身也是一个段落\n",
    "tf.text = \"新建PPT\"\n",
    "# 在文本框中添加段落\n",
    "p = tf.add_paragraph()\n",
    "p.text = \"添加新的幻灯片\"\n",
    "# 设置层级\n",
    "p.level = 1\n",
    "p1 = tf.add_paragraph()\n",
    "p1.text = \"保存\"\n",
    "p1.level=2\n",
    "\n",
    "# 添加文本框\n",
    "# 参数有，距离顶部的距离，距离左侧的距离，宽，高\n",
    "\n",
    "prs.save(\"./写入ppt加入层级.pptx\")\n",
    "\n",
    "\n",
    "\n"
   ]
  },
  {
   "cell_type": "code",
   "execution_count": 16,
   "id": "e75bc08d",
   "metadata": {},
   "outputs": [],
   "source": [
    "# 插入文本框\n",
    "from pptx import Presentation\n",
    "from pptx.util import Cm # 距离单位厘米\n",
    "# 新建PPT\n",
    "prs = Presentation()\n",
    "# 添加一个幻灯片使用6号板式\n",
    "slide = prs.slides.add_slide(prs.slide_layouts[6])\n",
    "\n",
    "# 添加文本框\n",
    "# 参数有，距离顶部的距离，距离左侧的距离，宽，高\n",
    "left = top = width = height = Cm(3)\n",
    "text_box = slide.shapes.add_textbox(left,top=top,width=width,height=height)\n",
    "# 获取文本框的文字框\n",
    "tf = text_box.text_frame\n",
    "tf.text = \"小荷\"\n",
    "\n",
    "prs.save(\"添加文本框.pptx\")"
   ]
  },
  {
   "cell_type": "code",
   "execution_count": 18,
   "id": "47010c91",
   "metadata": {},
   "outputs": [],
   "source": [
    "# 添加图片操作\n",
    "from pptx import Presentation\n",
    "from pptx.util import Inches # 距离单位厘米\n",
    "# 新建PPT\n",
    "prs = Presentation()\n",
    "# 添加一个幻灯片使用6号板式\n",
    "slide = prs.slides.add_slide(prs.slide_layouts[6])\n",
    "\n",
    "left = top = width = height = Cm(5)\n",
    "pic = slide.shapes.add_picture('s.png',left , top , width,height)\n",
    "prs.save(\"./插入图片.pptx\")"
   ]
  },
  {
   "cell_type": "code",
   "execution_count": 23,
   "id": "b664c115",
   "metadata": {},
   "outputs": [],
   "source": [
    "# 插入表格 \n",
    "from pptx import Presentation\n",
    "from pptx.util import Cm # 距离单位厘米\n",
    "# 新建PPT\n",
    "prs = Presentation()\n",
    "# 添加一个幻灯片使用6号板式\n",
    "slide = prs.slides.add_slide(prs.slide_layouts[6])\n",
    "\n",
    "# 设置表格的参数\n",
    "rows,cols = 4,2\n",
    "left=top = Cm(10)\n",
    "width = Cm(8)\n",
    "height = Cm(4)\n",
    "# 创建表格\n",
    "tables = slide.shapes.add_table(rows,cols,left,top,width,height).table\n",
    "# 表格中写入数据\n",
    "lists = [\n",
    "    [\"学号\",\"姓名\"],\n",
    "    [\"111\",\"asdf\"],\n",
    "    [\"22\",\"sd\"],\n",
    "    [\"33\",\"dddd\"],\n",
    "]\n",
    "# 插入数据\n",
    "for row in range(rows):\n",
    "    for col in range(cols):\n",
    "        tables.cell(row,col).text = str(lists[row][col])\n",
    "\n",
    "        \n",
    "prs.save(\"插入表格.pptx\")"
   ]
  }
 ],
 "metadata": {
  "kernelspec": {
   "display_name": "Python 3 (ipykernel)",
   "language": "python",
   "name": "python3"
  },
  "language_info": {
   "codemirror_mode": {
    "name": "ipython",
    "version": 3
   },
   "file_extension": ".py",
   "mimetype": "text/x-python",
   "name": "python",
   "nbconvert_exporter": "python",
   "pygments_lexer": "ipython3",
   "version": "3.9.13"
  }
 },
 "nbformat": 4,
 "nbformat_minor": 5
}
