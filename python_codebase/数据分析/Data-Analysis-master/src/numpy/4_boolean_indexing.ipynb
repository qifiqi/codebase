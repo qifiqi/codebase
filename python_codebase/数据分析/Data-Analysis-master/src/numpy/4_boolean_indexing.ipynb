{
 "cells": [
  {
   "cell_type": "code",
   "execution_count": 24,
   "metadata": {
    "collapsed": false
   },
   "outputs": [],
   "source": [
    "import numpy as np\n",
    "import numpy.random as np_random"
   ]
  },
  {
   "cell_type": "code",
   "execution_count": 25,
   "metadata": {
    "collapsed": false
   },
   "outputs": [
    {
     "name": "stdout",
     "output_type": "stream",
     "text": [
      "使用布尔数组作为索引\n",
      "[[-1.42800631 -2.62500425 -1.52057421 -1.3482058 ]\n",
      " [ 0.4409493   1.48540013  0.40731781  0.16606016]\n",
      " [ 0.84783595 -2.15533993  1.50628519 -0.31510995]\n",
      " [-1.59846491 -1.47390465 -0.13706371 -2.51937338]\n",
      " [ 0.15842983 -0.11273919  0.06812044 -0.24180305]\n",
      " [-1.73153848  0.32802232 -0.28211856 -0.22661218]\n",
      " [-0.00328644 -0.15188049  0.92744076 -1.04438799]]\n",
      "[ True False False  True False False False]\n",
      "[[-1.42800631 -2.62500425 -1.52057421 -1.3482058 ]\n",
      " [-1.59846491 -1.47390465 -0.13706371 -2.51937338]]\n",
      "[[-1.42800631 -2.62500425]\n",
      " [-1.59846491 -1.47390465]]\n"
     ]
    }
   ],
   "source": [
    "print '使用布尔数组作为索引'\n",
    "name_arr = np.array(['Bob', 'Joe', 'Will', 'Bob', 'Will', 'Joe', 'Joe'])\n",
    "rnd_arr = np_random.randn(7, 4) # random 7*4 array\n",
    "print rnd_arr\n",
    "print name_arr == 'Bob'\n",
    "print rnd_arr[name_arr == 'Bob']\n",
    "print rnd_arr[name_arr == 'Bob', :2]"
   ]
  },
  {
   "cell_type": "code",
   "execution_count": 26,
   "metadata": {
    "collapsed": false
   },
   "outputs": [
    {
     "name": "stdout",
     "output_type": "stream",
     "text": [
      "[[ 0.4409493   1.48540013  0.40731781  0.16606016]\n",
      " [ 0.84783595 -2.15533993  1.50628519 -0.31510995]\n",
      " [ 0.15842983 -0.11273919  0.06812044 -0.24180305]\n",
      " [-1.73153848  0.32802232 -0.28211856 -0.22661218]\n",
      " [-0.00328644 -0.15188049  0.92744076 -1.04438799]]\n"
     ]
    },
    {
     "name": "stderr",
     "output_type": "stream",
     "text": [
      "e:\\programs\\anaconda\\lib\\site-packages\\ipykernel\\__main__.py:1: DeprecationWarning: numpy boolean negative (the unary `-` operator) is deprecated, use the bitwise_xor (the `^` operator) or the logical_xor function instead.\n",
      "  if __name__ == '__main__':\n"
     ]
    }
   ],
   "source": [
    "print rnd_arr[-(name_arr == 'Bob')] #输出的是 name_arr!='Bob'的行"
   ]
  },
  {
   "cell_type": "code",
   "execution_count": 27,
   "metadata": {
    "collapsed": false
   },
   "outputs": [
    {
     "name": "stdout",
     "output_type": "stream",
     "text": [
      "[[ 0.4409493   1.48540013  0.40731781  0.16606016]\n",
      " [ 0.84783595 -2.15533993  1.50628519 -0.31510995]\n",
      " [ 0.15842983 -0.11273919  0.06812044 -0.24180305]\n",
      " [-1.73153848  0.32802232 -0.28211856 -0.22661218]\n",
      " [-0.00328644 -0.15188049  0.92744076 -1.04438799]]\n",
      "[[-1.42800631 -2.62500425 -1.52057421 -1.3482058 ]\n",
      " [ 0.84783595 -2.15533993  1.50628519 -0.31510995]\n",
      " [-1.59846491 -1.47390465 -0.13706371 -2.51937338]\n",
      " [ 0.15842983 -0.11273919  0.06812044 -0.24180305]]\n",
      "['Bob' 'Joe' 'Will' 'Bob' 'Will' 'Joe' 'Joe']\n",
      "[[-1.42800631 -2.62500425 -1.52057421 -1.3482058 ]\n",
      " [ 7.          7.          7.          7.        ]\n",
      " [ 0.84783595 -2.15533993  1.50628519 -0.31510995]\n",
      " [-1.59846491 -1.47390465 -0.13706371 -2.51937338]\n",
      " [ 0.15842983 -0.11273919  0.06812044 -0.24180305]\n",
      " [ 7.          7.          7.          7.        ]\n",
      " [ 7.          7.          7.          7.        ]]\n"
     ]
    }
   ],
   "source": [
    "print rnd_arr[name_arr != 'Bob']\n",
    "mask_arr = (name_arr == 'Bob')| (name_arr == 'Will')\n",
    "print rnd_arr[mask_arr]\n",
    "print name_arr\n",
    "rnd_arr[name_arr == 'Joe'] = 7\n",
    "print rnd_arr"
   ]
  },
  {
   "cell_type": "code",
   "execution_count": null,
   "metadata": {
    "collapsed": true
   },
   "outputs": [],
   "source": []
  }
 ],
 "metadata": {
  "kernelspec": {
   "display_name": "Python 2",
   "language": "python",
   "name": "python2"
  },
  "language_info": {
   "codemirror_mode": {
    "name": "ipython",
    "version": 2
   },
   "file_extension": ".py",
   "mimetype": "text/x-python",
   "name": "python",
   "nbconvert_exporter": "python",
   "pygments_lexer": "ipython2",
   "version": "2.7.11"
  }
 },
 "nbformat": 4,
 "nbformat_minor": 1
}
