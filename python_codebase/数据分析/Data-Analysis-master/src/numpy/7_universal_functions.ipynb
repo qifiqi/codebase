{
 "cells": [
  {
   "cell_type": "code",
   "execution_count": 29,
   "metadata": {
    "collapsed": false
   },
   "outputs": [
    {
     "name": "stdout",
     "output_type": "stream",
     "text": [
      "\n"
     ]
    }
   ],
   "source": [
    "import numpy as np\n",
    "import numpy.random as np_random"
   ]
  },
  {
   "cell_type": "code",
   "execution_count": 30,
   "metadata": {
    "collapsed": false
   },
   "outputs": [
    {
     "name": "stdout",
     "output_type": "stream",
     "text": [
      "求平方根\n",
      "[ 0.          1.          1.41421356  1.73205081  2.          2.23606798\n",
      "  2.44948974  2.64575131  2.82842712  3.        ]\n"
     ]
    }
   ],
   "source": [
    "print '求平方根'\n",
    "arr = np.arange(10)\n",
    "print np.sqrt(arr)"
   ]
  },
  {
   "cell_type": "code",
   "execution_count": 31,
   "metadata": {
    "collapsed": false
   },
   "outputs": [
    {
     "name": "stdout",
     "output_type": "stream",
     "text": [
      "数组比较\n",
      "[ 0.7545063   1.09322751 -0.61806054 -1.01449904 -1.03062829 -0.43887283\n",
      "  0.18096014  0.2158842 ]\n",
      "[-0.29827664 -0.4190177  -0.24344043  1.02676912 -0.41224523  0.76204459\n",
      " -0.36508918  0.79134304]\n",
      "[ 0.7545063   1.09322751 -0.24344043  1.02676912 -0.41224523  0.76204459\n",
      "  0.18096014  0.79134304]\n"
     ]
    }
   ],
   "source": [
    "print '数组比较'\n",
    "x = np_random.randn(8)\n",
    "y = np_random.randn(8)\n",
    "print x\n",
    "print y\n",
    "print np.maximum(x,y)"
   ]
  },
  {
   "cell_type": "code",
   "execution_count": 32,
   "metadata": {
    "collapsed": false
   },
   "outputs": [
    {
     "name": "stdout",
     "output_type": "stream",
     "text": [
      "四舍五入到接近的整数\n",
      "[ 1.  2.  3.  6.]\n",
      "整数 小数分开存为两个数组\n",
      "(array([ 0. ,  0.4,  0.1,  0.6]), array([ 1.,  2.,  3.,  5.]))\n"
     ]
    }
   ],
   "source": [
    "print '四舍五入到接近的整数'\n",
    "arr = np.array([1, 2.4, 3.1, 5.6])\n",
    "print np.rint(arr)\n",
    "print '整数 小数分开存为两个数组'\n",
    "print np.modf(arr)"
   ]
  },
  {
   "cell_type": "code",
   "execution_count": 33,
   "metadata": {
    "collapsed": false
   },
   "outputs": [
    {
     "name": "stdout",
     "output_type": "stream",
     "text": [
      "分为表示关于判断NaN（非数字）的逻辑数组\n",
      "<type 'numpy.dtype'>\n"
     ]
    },
    {
     "name": "stderr",
     "output_type": "stream",
     "text": [
      "e:\\programs\\anaconda\\lib\\site-packages\\ipykernel\\__main__.py:7: RuntimeWarning: invalid value encountered in log\n",
      "e:\\programs\\anaconda\\lib\\site-packages\\ipykernel\\__main__.py:7: RuntimeWarning: divide by zero encountered in log\n"
     ]
    },
    {
     "data": {
      "text/plain": [
       "array([ True, False, False], dtype=bool)"
      ]
     },
     "execution_count": 33,
     "metadata": {},
     "output_type": "execute_result"
    }
   ],
   "source": [
    "print '分为表示关于判断NaN（非数字）的逻辑数组'\n",
    "arr = np.array(['1','f', '3', '42', 'd'])\n",
    "print np.dtype\n",
    "# todo \n",
    "np.isnan(np.nan)\n",
    "np.isnan(np.inf)\n",
    "np.isnan([np.log(-1.),1.,np.log(0)])"
   ]
  },
  {
   "cell_type": "code",
   "execution_count": 34,
   "metadata": {
    "collapsed": false
   },
   "outputs": [
    {
     "name": "stdout",
     "output_type": "stream",
     "text": [
      "False\n",
      "True\n"
     ]
    }
   ],
   "source": [
    "print np.isfinite(np.inf)\n",
    "print np.isinf(np.inf)"
   ]
  },
  {
   "cell_type": "code",
   "execution_count": 35,
   "metadata": {
    "collapsed": false
   },
   "outputs": [
    {
     "name": "stdout",
     "output_type": "stream",
     "text": [
      "三角函数\n",
      "[[ 1.          0.54030231 -0.41614684 -0.9899925  -0.65364362]\n",
      " [ 0.28366219  0.96017029  0.75390225 -0.14550003 -0.91113026]]\n"
     ]
    }
   ],
   "source": [
    "print '三角函数'\n",
    "arr = np.arange(10).reshape(2,5)\n",
    "print np.cos(arr)"
   ]
  },
  {
   "cell_type": "code",
   "execution_count": 36,
   "metadata": {
    "collapsed": false
   },
   "outputs": [
    {
     "name": "stdout",
     "output_type": "stream",
     "text": [
      "逻辑取反 与 取反\n",
      "[[ True False False False False]\n",
      " [False False False False False]]\n",
      "[[ 0 -1 -2 -3 -4]\n",
      " [-5 -6 -7 -8 -9]]\n"
     ]
    }
   ],
   "source": [
    "print '逻辑取反 与 取反'\n",
    "print np.logical_not(arr)\n",
    "print -arr"
   ]
  },
  {
   "cell_type": "code",
   "execution_count": 37,
   "metadata": {
    "collapsed": false
   },
   "outputs": [
    {
     "name": "stdout",
     "output_type": "stream",
     "text": [
      "二元函数\n",
      "[ 3  8 69 21 64]\n",
      "[ -1  -2 -61   7  60]\n",
      "[  2  15 260  98 124]\n",
      "[ 0  0  0  2 31]\n",
      "向下取整除法\n",
      "<module 'numpy' from 'e:\\programs\\anaconda\\lib\\site-packages\\numpy\\__init__.pyc'>"
     ]
    },
    {
     "ename": "NameError",
     "evalue": "name 'floor_divede' is not defined",
     "output_type": "error",
     "traceback": [
      "\u001b[0;31m---------------------------------------------------------------------------\u001b[0m",
      "\u001b[0;31mNameError\u001b[0m                                 Traceback (most recent call last)",
      "\u001b[0;32m<ipython-input-37-e1e880da8cc1>\u001b[0m in \u001b[0;36m<module>\u001b[0;34m()\u001b[0m\n\u001b[1;32m      7\u001b[0m \u001b[1;32mprint\u001b[0m \u001b[0mnp\u001b[0m\u001b[1;33m.\u001b[0m\u001b[0mdivide\u001b[0m\u001b[1;33m(\u001b[0m\u001b[0marr1\u001b[0m\u001b[1;33m,\u001b[0m\u001b[0marr2\u001b[0m\u001b[1;33m)\u001b[0m\u001b[1;33m\u001b[0m\u001b[0m\n\u001b[1;32m      8\u001b[0m \u001b[1;32mprint\u001b[0m \u001b[1;34m'向下取整除法'\u001b[0m\u001b[1;33m\u001b[0m\u001b[0m\n\u001b[0;32m----> 9\u001b[0;31m \u001b[1;32mprint\u001b[0m \u001b[0mnp\u001b[0m\u001b[1;33m,\u001b[0m\u001b[0mfloor_divede\u001b[0m\u001b[1;33m(\u001b[0m\u001b[0marr1\u001b[0m\u001b[1;33m,\u001b[0m \u001b[0marr2\u001b[0m\u001b[1;33m)\u001b[0m\u001b[1;33m\u001b[0m\u001b[0m\n\u001b[0m",
      "\u001b[0;31mNameError\u001b[0m: name 'floor_divede' is not defined"
     ]
    }
   ],
   "source": [
    "print '二元函数'\n",
    "arr1 = [ 1, 3, 4, 14, 62]\n",
    "arr2 = [2, 5, 65, 7, 2]\n",
    "print np.add(arr1,arr2)\n",
    "print np.subtract(arr1,arr2)\n",
    "print np.multiply(arr1,arr2)\n",
    "print np.divide(arr1,arr2)\n",
    "print '向下取整除法'\n",
    "print np,floor_divede(arr1, arr2)"
   ]
  },
  {
   "cell_type": "code",
   "execution_count": 38,
   "metadata": {
    "collapsed": false
   },
   "outputs": [
    {
     "ename": "NameError",
     "evalue": "name 'power' is not defined",
     "output_type": "error",
     "traceback": [
      "\u001b[0;31m---------------------------------------------------------------------------\u001b[0m",
      "\u001b[0;31mNameError\u001b[0m                                 Traceback (most recent call last)",
      "\u001b[0;32m<ipython-input-38-808faaeb378c>\u001b[0m in \u001b[0;36m<module>\u001b[0;34m()\u001b[0m\n\u001b[0;32m----> 1\u001b[0;31m \u001b[1;32mprint\u001b[0m \u001b[0mpower\u001b[0m\u001b[1;33m(\u001b[0m\u001b[0marr1\u001b[0m\u001b[1;33m,\u001b[0m\u001b[0marr2\u001b[0m\u001b[1;33m)\u001b[0m \u001b[1;31m#a^b\u001b[0m\u001b[1;33m\u001b[0m\u001b[0m\n\u001b[0m\u001b[1;32m      2\u001b[0m \u001b[1;32mprint\u001b[0m \u001b[0mmaximum\u001b[0m\u001b[1;33m(\u001b[0m\u001b[0marr1\u001b[0m\u001b[1;33m,\u001b[0m\u001b[0marr2\u001b[0m\u001b[1;33m)\u001b[0m \u001b[1;31m#fmax(arr1,arr2)会忽略NaN\u001b[0m\u001b[1;33m\u001b[0m\u001b[0m\n\u001b[1;32m      3\u001b[0m \u001b[1;32mprint\u001b[0m \u001b[0mminimum\u001b[0m\u001b[1;33m(\u001b[0m\u001b[0marr1\u001b[0m\u001b[1;33m,\u001b[0m\u001b[0marr2\u001b[0m\u001b[1;33m)\u001b[0m \u001b[1;31m#fmin(arr1,arr2)会忽略NaN\u001b[0m\u001b[1;33m\u001b[0m\u001b[0m\n\u001b[1;32m      4\u001b[0m \u001b[1;32mprint\u001b[0m \u001b[0mmod\u001b[0m\u001b[1;33m(\u001b[0m\u001b[0marr1\u001b[0m\u001b[1;33m,\u001b[0m\u001b[0marr2\u001b[0m\u001b[1;33m)\u001b[0m\u001b[1;33m\u001b[0m\u001b[0m\n",
      "\u001b[0;31mNameError\u001b[0m: name 'power' is not defined"
     ]
    }
   ],
   "source": [
    "print power(arr1,arr2) #a^b\n",
    "print maximum(arr1,arr2) #fmax(arr1,arr2)会忽略NaN\n",
    "print minimum(arr1,arr2) #fmin(arr1,arr2)会忽略NaN\n",
    "print mod(arr1,arr2)"
   ]
  },
  {
   "cell_type": "code",
   "execution_count": null,
   "metadata": {
    "collapsed": true
   },
   "outputs": [],
   "source": [
    "#todo"
   ]
  }
 ],
 "metadata": {
  "kernelspec": {
   "display_name": "Python 2",
   "language": "python",
   "name": "python2"
  },
  "language_info": {
   "codemirror_mode": {
    "name": "ipython",
    "version": 2
   },
   "file_extension": ".py",
   "mimetype": "text/x-python",
   "name": "python",
   "nbconvert_exporter": "python",
   "pygments_lexer": "ipython2",
   "version": "2.7.11"
  }
 },
 "nbformat": 4,
 "nbformat_minor": 1
}
