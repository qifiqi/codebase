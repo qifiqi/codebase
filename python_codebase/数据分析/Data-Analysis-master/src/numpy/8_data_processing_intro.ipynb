{
 "cells": [
  {
   "cell_type": "code",
   "execution_count": 1,
   "metadata": {
    "collapsed": true
   },
   "outputs": [],
   "source": [
    "import matplotlib.pyplot as plt\n",
    "import numpy as np\n",
    "import pylab"
   ]
  },
  {
   "cell_type": "code",
   "execution_count": 2,
   "metadata": {
    "collapsed": false
   },
   "outputs": [
    {
     "name": "stdout",
     "output_type": "stream",
     "text": [
      "[[-5.   -4.99 -4.98 ...,  4.97  4.98  4.99]\n",
      " [-5.   -4.99 -4.98 ...,  4.97  4.98  4.99]\n",
      " [-5.   -4.99 -4.98 ...,  4.97  4.98  4.99]\n",
      " ..., \n",
      " [-5.   -4.99 -4.98 ...,  4.97  4.98  4.99]\n",
      " [-5.   -4.99 -4.98 ...,  4.97  4.98  4.99]\n",
      " [-5.   -4.99 -4.98 ...,  4.97  4.98  4.99]]\n",
      "[[-5.   -5.   -5.   ..., -5.   -5.   -5.  ]\n",
      " [-4.99 -4.99 -4.99 ..., -4.99 -4.99 -4.99]\n",
      " [-4.98 -4.98 -4.98 ..., -4.98 -4.98 -4.98]\n",
      " ..., \n",
      " [ 4.97  4.97  4.97 ...,  4.97  4.97  4.97]\n",
      " [ 4.98  4.98  4.98 ...,  4.98  4.98  4.98]\n",
      " [ 4.99  4.99  4.99 ...,  4.99  4.99  4.99]]\n",
      "[[ 7.07106781  7.06400028  7.05693985 ...,  7.04988652  7.05693985\n",
      "   7.06400028]\n",
      " [ 7.06400028  7.05692568  7.04985815 ...,  7.04279774  7.04985815\n",
      "   7.05692568]\n",
      " [ 7.05693985  7.04985815  7.04278354 ...,  7.03571603  7.04278354\n",
      "   7.04985815]\n",
      " ..., \n",
      " [ 7.04988652  7.04279774  7.03571603 ...,  7.0286414   7.03571603\n",
      "   7.04279774]\n",
      " [ 7.05693985  7.04985815  7.04278354 ...,  7.03571603  7.04278354\n",
      "   7.04985815]\n",
      " [ 7.06400028  7.05692568  7.04985815 ...,  7.04279774  7.04985815\n",
      "   7.05692568]]\n"
     ]
    }
   ],
   "source": [
    "points = np.arange(-5, 5, 0.01) #generate 100 points\n",
    "xs, ys = np.meshgrid(points, points) # xs, ys\n",
    "print xs\n",
    "print ys\n",
    "z = np.sqrt(xs **2 + ys ** 2)\n",
    "print z"
   ]
  },
  {
   "cell_type": "code",
   "execution_count": null,
   "metadata": {
    "collapsed": false
   },
   "outputs": [],
   "source": [
    "# draw\n",
    "plt.imshow(z, cmap = plt.cm.gray)\n",
    "plt.colorbar()\n",
    "plt.title(\"Image plot of $\\sqrt{x^2+y^2}$ for a grid of values\")\n",
    "pylab.show()"
   ]
  },
  {
   "cell_type": "code",
   "execution_count": null,
   "metadata": {
    "collapsed": true
   },
   "outputs": [],
   "source": []
  }
 ],
 "metadata": {
  "kernelspec": {
   "display_name": "Python 2",
   "language": "python",
   "name": "python2"
  },
  "language_info": {
   "codemirror_mode": {
    "name": "ipython",
    "version": 2
   },
   "file_extension": ".py",
   "mimetype": "text/x-python",
   "name": "python",
   "nbconvert_exporter": "python",
   "pygments_lexer": "ipython2",
   "version": "2.7.11"
  }
 },
 "nbformat": 4,
 "nbformat_minor": 1
}
