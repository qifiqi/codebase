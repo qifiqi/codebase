{
 "cells": [
  {
   "cell_type": "markdown",
   "source": [
    "# 导入文件模块"
   ],
   "metadata": {
    "collapsed": false,
    "pycharm": {
     "name": "#%% md\n"
    }
   }
  },
  {
   "cell_type": "code",
   "execution_count": 10,
   "outputs": [
    {
     "data": {
      "text/plain": "      一本分数线文科  一本分数线理科  二本分数线文科  二本分数线理科\n年份                                      \n2018      576      532      488      432\n2017      555      537      468      439\n2016      583      548      532      494\n2015      579      548      527      495\n2014      565      543      507      495\n2013      549      550      494      505\n2012      495      477      446      433\n2011      524      484      481      435\n2010      524      494      474      441\n2009      532      501      489      459\n2008      515      502      472      455\n2007      528      531      489      478\n2006      516      528      476      476",
      "text/html": "<div>\n<style scoped>\n    .dataframe tbody tr th:only-of-type {\n        vertical-align: middle;\n    }\n\n    .dataframe tbody tr th {\n        vertical-align: top;\n    }\n\n    .dataframe thead th {\n        text-align: right;\n    }\n</style>\n<table border=\"1\" class=\"dataframe\">\n  <thead>\n    <tr style=\"text-align: right;\">\n      <th></th>\n      <th>一本分数线文科</th>\n      <th>一本分数线理科</th>\n      <th>二本分数线文科</th>\n      <th>二本分数线理科</th>\n    </tr>\n    <tr>\n      <th>年份</th>\n      <th></th>\n      <th></th>\n      <th></th>\n      <th></th>\n    </tr>\n  </thead>\n  <tbody>\n    <tr>\n      <th>2018</th>\n      <td>576</td>\n      <td>532</td>\n      <td>488</td>\n      <td>432</td>\n    </tr>\n    <tr>\n      <th>2017</th>\n      <td>555</td>\n      <td>537</td>\n      <td>468</td>\n      <td>439</td>\n    </tr>\n    <tr>\n      <th>2016</th>\n      <td>583</td>\n      <td>548</td>\n      <td>532</td>\n      <td>494</td>\n    </tr>\n    <tr>\n      <th>2015</th>\n      <td>579</td>\n      <td>548</td>\n      <td>527</td>\n      <td>495</td>\n    </tr>\n    <tr>\n      <th>2014</th>\n      <td>565</td>\n      <td>543</td>\n      <td>507</td>\n      <td>495</td>\n    </tr>\n    <tr>\n      <th>2013</th>\n      <td>549</td>\n      <td>550</td>\n      <td>494</td>\n      <td>505</td>\n    </tr>\n    <tr>\n      <th>2012</th>\n      <td>495</td>\n      <td>477</td>\n      <td>446</td>\n      <td>433</td>\n    </tr>\n    <tr>\n      <th>2011</th>\n      <td>524</td>\n      <td>484</td>\n      <td>481</td>\n      <td>435</td>\n    </tr>\n    <tr>\n      <th>2010</th>\n      <td>524</td>\n      <td>494</td>\n      <td>474</td>\n      <td>441</td>\n    </tr>\n    <tr>\n      <th>2009</th>\n      <td>532</td>\n      <td>501</td>\n      <td>489</td>\n      <td>459</td>\n    </tr>\n    <tr>\n      <th>2008</th>\n      <td>515</td>\n      <td>502</td>\n      <td>472</td>\n      <td>455</td>\n    </tr>\n    <tr>\n      <th>2007</th>\n      <td>528</td>\n      <td>531</td>\n      <td>489</td>\n      <td>478</td>\n    </tr>\n    <tr>\n      <th>2006</th>\n      <td>516</td>\n      <td>528</td>\n      <td>476</td>\n      <td>476</td>\n    </tr>\n  </tbody>\n</table>\n</div>"
     },
     "execution_count": 10,
     "metadata": {},
     "output_type": "execute_result"
    }
   ],
   "source": [
    "import pandas as pd\n",
    "# data = pd.read_csv(f'E:\\home\\scores.csv')\n",
    "# data_2 =data[['一本分数线文科','一本分数线理科','二本分数线文科','二本分数线理科']].set_index(data['年份'],drop=True,inplace=False)\n",
    "# data_2\n",
    "\n",
    "data = pd.read_excel(f'E:\\home\\scores.xlsx',header=1,names=['年份','一本分数线文科','一本分数线理科','二本分数线文科','二本分数线理科'])\n",
    "data_2 =data[['一本分数线文科','一本分数线理科','二本分数线文科','二本分数线理科']].set_index(data['年份'],drop=True,inplace=False)\n",
    "data_2"
   ],
   "metadata": {
    "collapsed": false,
    "pycharm": {
     "name": "#%%\n"
    }
   }
  },
  {
   "cell_type": "code",
   "execution_count": 13,
   "outputs": [
    {
     "data": {
      "text/plain": "array([[ 0,  0,  0,  0],\n       [21, -5, 20, -7]], dtype=int64)"
     },
     "execution_count": 13,
     "metadata": {},
     "output_type": "execute_result"
    }
   ],
   "source": [
    "aa = data_2.loc[:'2018'].values - data_2.loc[:'2017'].values\n",
    "aa"
   ],
   "metadata": {
    "collapsed": false,
    "pycharm": {
     "name": "#%%\n"
    }
   }
  },
  {
   "cell_type": "code",
   "execution_count": null,
   "outputs": [],
   "source": [],
   "metadata": {
    "collapsed": false,
    "pycharm": {
     "name": "#%%\n"
    }
   }
  }
 ],
 "metadata": {
  "kernelspec": {
   "display_name": "Python 3",
   "language": "python",
   "name": "python3"
  },
  "language_info": {
   "codemirror_mode": {
    "name": "ipython",
    "version": 2
   },
   "file_extension": ".py",
   "mimetype": "text/x-python",
   "name": "python",
   "nbconvert_exporter": "python",
   "pygments_lexer": "ipython2",
   "version": "2.7.6"
  }
 },
 "nbformat": 4,
 "nbformat_minor": 0
}