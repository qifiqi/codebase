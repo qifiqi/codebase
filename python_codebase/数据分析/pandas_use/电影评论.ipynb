{
 "cells": [
  {
   "cell_type": "markdown",
   "source": [
    "# 导入模块和数据"
   ],
   "metadata": {
    "collapsed": false,
    "pycharm": {
     "name": "#%% md\n"
    }
   }
  },
  {
   "cell_type": "code",
   "execution_count": 2,
   "outputs": [],
   "source": [
    "import pandas as pd\n",
    "import numpy as npy\n",
    "import jieba"
   ],
   "metadata": {
    "collapsed": false,
    "pycharm": {
     "name": "#%%\n"
    }
   }
  },
  {
   "cell_type": "markdown",
   "source": [
    "## 导入数据"
   ],
   "metadata": {
    "collapsed": false,
    "pycharm": {
     "name": "#%% md\n"
    }
   }
  },
  {
   "cell_type": "code",
   "execution_count": 3,
   "outputs": [
    {
     "data": {
      "text/plain": "                 n        评论人  stars           评论时间  \\\n0  变形金刚3的影评 (1590)         漫科      1  2011/7/8 2:11   \n1  变形金刚3的影评 (1590)        李胶囊      1  2011/7/8 2:11   \n2  变形金刚3的影评 (1590)         狒狒      1  2011/7/8 2:11   \n3  变形金刚3的影评 (1590)     KILL88      1  2011/7/8 2:11   \n4  变形金刚3的影评 (1590)         木遥      1  2011/7/8 2:11   \n5  变形金刚3的影评 (1590)        魏知超      1  2011/7/8 2:11   \n6  变形金刚3的影评 (1590)  Cedonulli      1  2011/7/8 2:11   \n7  变形金刚3的影评 (1590)        黄兔君      1  2011/7/8 2:11   \n8  变形金刚3的影评 (1590)      [已注销]      1  2011/7/8 2:11   \n9  变形金刚3的影评 (1590)         陈朝      1  2011/7/8 2:11   \n\n                          题目  \\\n0      麦克贝你丫给我站住！ 3d眼镜柄狂插你眼！   \n1                 迈克尔贝你这是作死啊   \n2                    记念变形金刚3   \n3     看完变3来详细介绍出场的所有金刚，剧透了小心   \n4              关于《变形金刚3》的几句话   \n5  《变形金刚3》吐槽：认真不一定会赢，但不认真一定输   \n6        坑爹的广告片 坑爹的中国奶 极少量剧透   \n7        不管是硅基还是碳基都是基（腐向吐槽注意   \n8                      伤感的电影   \n9          “针对霸天虎的战略，我谈几点看法”   \n\n                                                评论内容    有用   没用     回应  \\\n0  这篇影评可能有剧透                        很多人怕，说你不要写变3影...  2568  279  563回应   \n1  这篇影评可能有剧透                        本戏的主要剧情进展表  开...  1651  150  483回应   \n2  真的猛士，敢于直面惨淡的人生，敢于正视推迟的档期。这是怎样的哀痛者和幸福者？然而上映又常常为...   566  142  120回应   \n3  买拷贝说，世界上有300个专家，上亿的粉丝，我拍这个电影是给粉丝看的，不是给那300个人看的...   292   25   57回应   \n4  1.   没有理由不看 3D IMAX 版。 2.   前半部分基本上可以看做是 Lenov...   329   74  151回应   \n5  废话不说，直接开始吐槽。    汽车人一登场，就是帮着美国人清除“危险势力”。虽然我很讨厌“...   116   18   60回应   \n6  片子很好看 劲爆剧情和一般剧情穿插 整部片子我的肾上腺激素都在不停的喷啊  妞不错 前凸后翘...   148   22  110回应   \n7  这篇影评可能有剧透                        前段时间看友邻纷纷拿变3剧...    58    4   10回应   \n8  上个月最后一天朋友介绍认识了一个女孩，我看她第一眼感觉挺好，她长的不错，人也挺随和的，我挺喜...    65   15   51回应   \n9  一般的吐槽就略过了，我最惊讶的是霸天虎居然输了，稍作回想，就能发现他们的一系列愚蠢的失误。针...    34    5    5回应   \n\n                     yonghu_loc  ... Unnamed: 27 Unnamed: 28 Unnamed: 29  \\\n0                       SNOWMAN  ...         NaN         NaN         NaN   \n1                Firenze, Italy  ...         NaN         NaN         NaN   \n2                          江西南昌  ...         NaN         NaN         NaN   \n3                           NaN  ...         NaN         NaN         NaN   \n4  New York City, United States  ...         NaN         NaN         NaN   \n5                          浙江宁波  ...         NaN         NaN         NaN   \n6          Melbourne, Australia  ...         NaN         NaN         NaN   \n7        London, United Kingdom  ...         NaN         NaN         NaN   \n8                           已注销  ...         NaN         NaN         NaN   \n9                            北京  ...         NaN         NaN         NaN   \n\n  Unnamed: 30 Unnamed: 31 Unnamed: 32 Unnamed: 33 Unnamed: 34 Unnamed: 35  \\\n0         NaN         NaN         NaN         NaN         NaN         NaN   \n1         NaN         NaN         NaN         NaN         NaN         NaN   \n2         NaN         NaN         NaN         NaN         NaN         NaN   \n3         NaN         NaN         NaN         NaN         NaN         NaN   \n4         NaN         NaN         NaN         NaN         NaN         NaN   \n5         NaN         NaN         NaN         NaN         NaN         NaN   \n6         NaN         NaN         NaN         NaN         NaN         NaN   \n7         NaN         NaN         NaN         NaN         NaN         NaN   \n8         NaN         NaN         NaN         NaN         NaN         NaN   \n9         NaN         NaN         NaN         NaN         NaN         NaN   \n\n  Unnamed: 36  \n0         NaN  \n1         NaN  \n2         NaN  \n3         NaN  \n4         NaN  \n5         NaN  \n6         NaN  \n7         NaN  \n8         NaN  \n9         NaN  \n\n[10 rows x 37 columns]",
      "text/html": "<div>\n<style scoped>\n    .dataframe tbody tr th:only-of-type {\n        vertical-align: middle;\n    }\n\n    .dataframe tbody tr th {\n        vertical-align: top;\n    }\n\n    .dataframe thead th {\n        text-align: right;\n    }\n</style>\n<table border=\"1\" class=\"dataframe\">\n  <thead>\n    <tr style=\"text-align: right;\">\n      <th></th>\n      <th>n</th>\n      <th>评论人</th>\n      <th>stars</th>\n      <th>评论时间</th>\n      <th>题目</th>\n      <th>评论内容</th>\n      <th>有用</th>\n      <th>没用</th>\n      <th>回应</th>\n      <th>yonghu_loc</th>\n      <th>...</th>\n      <th>Unnamed: 27</th>\n      <th>Unnamed: 28</th>\n      <th>Unnamed: 29</th>\n      <th>Unnamed: 30</th>\n      <th>Unnamed: 31</th>\n      <th>Unnamed: 32</th>\n      <th>Unnamed: 33</th>\n      <th>Unnamed: 34</th>\n      <th>Unnamed: 35</th>\n      <th>Unnamed: 36</th>\n    </tr>\n  </thead>\n  <tbody>\n    <tr>\n      <th>0</th>\n      <td>变形金刚3的影评 (1590)</td>\n      <td>漫科</td>\n      <td>1</td>\n      <td>2011/7/8 2:11</td>\n      <td>麦克贝你丫给我站住！ 3d眼镜柄狂插你眼！</td>\n      <td>这篇影评可能有剧透                        很多人怕，说你不要写变3影...</td>\n      <td>2568</td>\n      <td>279</td>\n      <td>563回应</td>\n      <td>SNOWMAN</td>\n      <td>...</td>\n      <td>NaN</td>\n      <td>NaN</td>\n      <td>NaN</td>\n      <td>NaN</td>\n      <td>NaN</td>\n      <td>NaN</td>\n      <td>NaN</td>\n      <td>NaN</td>\n      <td>NaN</td>\n      <td>NaN</td>\n    </tr>\n    <tr>\n      <th>1</th>\n      <td>变形金刚3的影评 (1590)</td>\n      <td>李胶囊</td>\n      <td>1</td>\n      <td>2011/7/8 2:11</td>\n      <td>迈克尔贝你这是作死啊</td>\n      <td>这篇影评可能有剧透                        本戏的主要剧情进展表  开...</td>\n      <td>1651</td>\n      <td>150</td>\n      <td>483回应</td>\n      <td>Firenze, Italy</td>\n      <td>...</td>\n      <td>NaN</td>\n      <td>NaN</td>\n      <td>NaN</td>\n      <td>NaN</td>\n      <td>NaN</td>\n      <td>NaN</td>\n      <td>NaN</td>\n      <td>NaN</td>\n      <td>NaN</td>\n      <td>NaN</td>\n    </tr>\n    <tr>\n      <th>2</th>\n      <td>变形金刚3的影评 (1590)</td>\n      <td>狒狒</td>\n      <td>1</td>\n      <td>2011/7/8 2:11</td>\n      <td>记念变形金刚3</td>\n      <td>真的猛士，敢于直面惨淡的人生，敢于正视推迟的档期。这是怎样的哀痛者和幸福者？然而上映又常常为...</td>\n      <td>566</td>\n      <td>142</td>\n      <td>120回应</td>\n      <td>江西南昌</td>\n      <td>...</td>\n      <td>NaN</td>\n      <td>NaN</td>\n      <td>NaN</td>\n      <td>NaN</td>\n      <td>NaN</td>\n      <td>NaN</td>\n      <td>NaN</td>\n      <td>NaN</td>\n      <td>NaN</td>\n      <td>NaN</td>\n    </tr>\n    <tr>\n      <th>3</th>\n      <td>变形金刚3的影评 (1590)</td>\n      <td>KILL88</td>\n      <td>1</td>\n      <td>2011/7/8 2:11</td>\n      <td>看完变3来详细介绍出场的所有金刚，剧透了小心</td>\n      <td>买拷贝说，世界上有300个专家，上亿的粉丝，我拍这个电影是给粉丝看的，不是给那300个人看的...</td>\n      <td>292</td>\n      <td>25</td>\n      <td>57回应</td>\n      <td>NaN</td>\n      <td>...</td>\n      <td>NaN</td>\n      <td>NaN</td>\n      <td>NaN</td>\n      <td>NaN</td>\n      <td>NaN</td>\n      <td>NaN</td>\n      <td>NaN</td>\n      <td>NaN</td>\n      <td>NaN</td>\n      <td>NaN</td>\n    </tr>\n    <tr>\n      <th>4</th>\n      <td>变形金刚3的影评 (1590)</td>\n      <td>木遥</td>\n      <td>1</td>\n      <td>2011/7/8 2:11</td>\n      <td>关于《变形金刚3》的几句话</td>\n      <td>1.   没有理由不看 3D IMAX 版。 2.   前半部分基本上可以看做是 Lenov...</td>\n      <td>329</td>\n      <td>74</td>\n      <td>151回应</td>\n      <td>New York City, United States</td>\n      <td>...</td>\n      <td>NaN</td>\n      <td>NaN</td>\n      <td>NaN</td>\n      <td>NaN</td>\n      <td>NaN</td>\n      <td>NaN</td>\n      <td>NaN</td>\n      <td>NaN</td>\n      <td>NaN</td>\n      <td>NaN</td>\n    </tr>\n    <tr>\n      <th>5</th>\n      <td>变形金刚3的影评 (1590)</td>\n      <td>魏知超</td>\n      <td>1</td>\n      <td>2011/7/8 2:11</td>\n      <td>《变形金刚3》吐槽：认真不一定会赢，但不认真一定输</td>\n      <td>废话不说，直接开始吐槽。    汽车人一登场，就是帮着美国人清除“危险势力”。虽然我很讨厌“...</td>\n      <td>116</td>\n      <td>18</td>\n      <td>60回应</td>\n      <td>浙江宁波</td>\n      <td>...</td>\n      <td>NaN</td>\n      <td>NaN</td>\n      <td>NaN</td>\n      <td>NaN</td>\n      <td>NaN</td>\n      <td>NaN</td>\n      <td>NaN</td>\n      <td>NaN</td>\n      <td>NaN</td>\n      <td>NaN</td>\n    </tr>\n    <tr>\n      <th>6</th>\n      <td>变形金刚3的影评 (1590)</td>\n      <td>Cedonulli</td>\n      <td>1</td>\n      <td>2011/7/8 2:11</td>\n      <td>坑爹的广告片 坑爹的中国奶 极少量剧透</td>\n      <td>片子很好看 劲爆剧情和一般剧情穿插 整部片子我的肾上腺激素都在不停的喷啊  妞不错 前凸后翘...</td>\n      <td>148</td>\n      <td>22</td>\n      <td>110回应</td>\n      <td>Melbourne, Australia</td>\n      <td>...</td>\n      <td>NaN</td>\n      <td>NaN</td>\n      <td>NaN</td>\n      <td>NaN</td>\n      <td>NaN</td>\n      <td>NaN</td>\n      <td>NaN</td>\n      <td>NaN</td>\n      <td>NaN</td>\n      <td>NaN</td>\n    </tr>\n    <tr>\n      <th>7</th>\n      <td>变形金刚3的影评 (1590)</td>\n      <td>黄兔君</td>\n      <td>1</td>\n      <td>2011/7/8 2:11</td>\n      <td>不管是硅基还是碳基都是基（腐向吐槽注意</td>\n      <td>这篇影评可能有剧透                        前段时间看友邻纷纷拿变3剧...</td>\n      <td>58</td>\n      <td>4</td>\n      <td>10回应</td>\n      <td>London, United Kingdom</td>\n      <td>...</td>\n      <td>NaN</td>\n      <td>NaN</td>\n      <td>NaN</td>\n      <td>NaN</td>\n      <td>NaN</td>\n      <td>NaN</td>\n      <td>NaN</td>\n      <td>NaN</td>\n      <td>NaN</td>\n      <td>NaN</td>\n    </tr>\n    <tr>\n      <th>8</th>\n      <td>变形金刚3的影评 (1590)</td>\n      <td>[已注销]</td>\n      <td>1</td>\n      <td>2011/7/8 2:11</td>\n      <td>伤感的电影</td>\n      <td>上个月最后一天朋友介绍认识了一个女孩，我看她第一眼感觉挺好，她长的不错，人也挺随和的，我挺喜...</td>\n      <td>65</td>\n      <td>15</td>\n      <td>51回应</td>\n      <td>已注销</td>\n      <td>...</td>\n      <td>NaN</td>\n      <td>NaN</td>\n      <td>NaN</td>\n      <td>NaN</td>\n      <td>NaN</td>\n      <td>NaN</td>\n      <td>NaN</td>\n      <td>NaN</td>\n      <td>NaN</td>\n      <td>NaN</td>\n    </tr>\n    <tr>\n      <th>9</th>\n      <td>变形金刚3的影评 (1590)</td>\n      <td>陈朝</td>\n      <td>1</td>\n      <td>2011/7/8 2:11</td>\n      <td>“针对霸天虎的战略，我谈几点看法”</td>\n      <td>一般的吐槽就略过了，我最惊讶的是霸天虎居然输了，稍作回想，就能发现他们的一系列愚蠢的失误。针...</td>\n      <td>34</td>\n      <td>5</td>\n      <td>5回应</td>\n      <td>北京</td>\n      <td>...</td>\n      <td>NaN</td>\n      <td>NaN</td>\n      <td>NaN</td>\n      <td>NaN</td>\n      <td>NaN</td>\n      <td>NaN</td>\n      <td>NaN</td>\n      <td>NaN</td>\n      <td>NaN</td>\n      <td>NaN</td>\n    </tr>\n  </tbody>\n</table>\n<p>10 rows × 37 columns</p>\n</div>"
     },
     "execution_count": 3,
     "metadata": {},
     "output_type": "execute_result"
    }
   ],
   "source": [
    "data = pd.read_csv('E:\\home\\电影评论\\电影影评.csv',delimiter=',',encoding='ansi',low_memory=False)\n",
    "data.head(10)"
   ],
   "metadata": {
    "collapsed": false,
    "pycharm": {
     "name": "#%%\n"
    }
   }
  },
  {
   "cell_type": "markdown",
   "source": [
    "### 1、利用影评数据统计每部电影的平均星级。"
   ],
   "metadata": {
    "collapsed": false,
    "pycharm": {
     "name": "#%% md\n"
    }
   }
  },
  {
   "cell_type": "code",
   "execution_count": 5,
   "outputs": [
    {
     "name": "stderr",
     "output_type": "stream",
     "text": [
      "C:\\Users\\FQCj\\AppData\\Local\\Temp\\ipykernel_19812\\3164677576.py:30: SettingWithCopyWarning: \n",
      "A value is trying to be set on a copy of a slice from a DataFrame.\n",
      "Try using .loc[row_indexer,col_indexer] = value instead\n",
      "\n",
      "See the caveats in the documentation: https://pandas.pydata.org/pandas-docs/stable/user_guide/indexing.html#returning-a-view-versus-a-copy\n",
      "  data_pl['等级'] = data_pl['评论内容'].map(Comment)\n"
     ]
    },
    {
     "data": {
      "text/plain": "                      n                                               评论内容  等级\n6       变形金刚3的影评 (1590)  片子很好看 劲爆剧情和一般剧情穿插 整部片子我的肾上腺激素都在不停的喷啊  妞不错 前凸后翘...   1\n50      变形金刚3的影评 (1590)  看了这部迈克尔。贝拍的第三集，剧情的确有些诟病，也许还是人类的世界里出现了金属的碰撞有些难以...   1\n74      变形金刚3的影评 (1590)  谢天谢地这是迈克尔·贝最后一部[变形金刚]，再拍下去擎天柱和霸天虎就要为还有啥理由再干架下去...   1\n89      变形金刚3的影评 (1590)  好吧广州万达IMAX，7月22日10:00PM。Transformers: Dark of ...   1\n145     变形金刚3的影评 (1590)  这篇影评可能有剧透                        跟前两部相比，这一部前部分...   1\n...                 ...                                                ...  ..\n164450    不二神探的影评 (593)  1、首先说剧情吧，没什么太大亮点，港式幽默+悬疑 总觉得有点格格不入 2、如果没有文章和李连...   1\n164453    不二神探的影评 (593)  这篇影评可能有剧透                           说实话，偶看这个片子...   1\n164454    不二神探的影评 (593)  剧情创新，笑点多。导演不错，在选角方面都很好，演员符合角色，这一点做到了，电影就成功了1/3...   1\n164458    不二神探的影评 (593)  李连杰 / 刘诗诗 / 陈妍希 / 柳岩 / 马伊琍 / 黄晓明 / 佟大为 / 冯德伦 /...   1\n164462    不二神探的影评 (593)  这篇影评可能有剧透                        今天跟风去看了不二神探.刘...   1\n\n[8650 rows x 3 columns]",
      "text/html": "<div>\n<style scoped>\n    .dataframe tbody tr th:only-of-type {\n        vertical-align: middle;\n    }\n\n    .dataframe tbody tr th {\n        vertical-align: top;\n    }\n\n    .dataframe thead th {\n        text-align: right;\n    }\n</style>\n<table border=\"1\" class=\"dataframe\">\n  <thead>\n    <tr style=\"text-align: right;\">\n      <th></th>\n      <th>n</th>\n      <th>评论内容</th>\n      <th>等级</th>\n    </tr>\n  </thead>\n  <tbody>\n    <tr>\n      <th>6</th>\n      <td>变形金刚3的影评 (1590)</td>\n      <td>片子很好看 劲爆剧情和一般剧情穿插 整部片子我的肾上腺激素都在不停的喷啊  妞不错 前凸后翘...</td>\n      <td>1</td>\n    </tr>\n    <tr>\n      <th>50</th>\n      <td>变形金刚3的影评 (1590)</td>\n      <td>看了这部迈克尔。贝拍的第三集，剧情的确有些诟病，也许还是人类的世界里出现了金属的碰撞有些难以...</td>\n      <td>1</td>\n    </tr>\n    <tr>\n      <th>74</th>\n      <td>变形金刚3的影评 (1590)</td>\n      <td>谢天谢地这是迈克尔·贝最后一部[变形金刚]，再拍下去擎天柱和霸天虎就要为还有啥理由再干架下去...</td>\n      <td>1</td>\n    </tr>\n    <tr>\n      <th>89</th>\n      <td>变形金刚3的影评 (1590)</td>\n      <td>好吧广州万达IMAX，7月22日10:00PM。Transformers: Dark of ...</td>\n      <td>1</td>\n    </tr>\n    <tr>\n      <th>145</th>\n      <td>变形金刚3的影评 (1590)</td>\n      <td>这篇影评可能有剧透                        跟前两部相比，这一部前部分...</td>\n      <td>1</td>\n    </tr>\n    <tr>\n      <th>...</th>\n      <td>...</td>\n      <td>...</td>\n      <td>...</td>\n    </tr>\n    <tr>\n      <th>164450</th>\n      <td>不二神探的影评 (593)</td>\n      <td>1、首先说剧情吧，没什么太大亮点，港式幽默+悬疑 总觉得有点格格不入 2、如果没有文章和李连...</td>\n      <td>1</td>\n    </tr>\n    <tr>\n      <th>164453</th>\n      <td>不二神探的影评 (593)</td>\n      <td>这篇影评可能有剧透                           说实话，偶看这个片子...</td>\n      <td>1</td>\n    </tr>\n    <tr>\n      <th>164454</th>\n      <td>不二神探的影评 (593)</td>\n      <td>剧情创新，笑点多。导演不错，在选角方面都很好，演员符合角色，这一点做到了，电影就成功了1/3...</td>\n      <td>1</td>\n    </tr>\n    <tr>\n      <th>164458</th>\n      <td>不二神探的影评 (593)</td>\n      <td>李连杰 / 刘诗诗 / 陈妍希 / 柳岩 / 马伊琍 / 黄晓明 / 佟大为 / 冯德伦 /...</td>\n      <td>1</td>\n    </tr>\n    <tr>\n      <th>164462</th>\n      <td>不二神探的影评 (593)</td>\n      <td>这篇影评可能有剧透                        今天跟风去看了不二神探.刘...</td>\n      <td>1</td>\n    </tr>\n  </tbody>\n</table>\n<p>8650 rows × 3 columns</p>\n</div>"
     },
     "execution_count": 5,
     "metadata": {},
     "output_type": "execute_result"
    }
   ],
   "source": [
    "# 取出数据\n",
    "data_pl = data[['n','评论内容']]\n",
    "# 导入词库用来分析评论内容\n",
    "tinyci = [line.strip() for line in open('E:\\home\\电影评论\\good.txt', 'r', encoding='utf-8').readlines()]\n",
    "# 这个方法是用来分析评论内容，用jieba进行分词\n",
    "def Comment(x):\n",
    "    if type(x) ==str:\n",
    "        num = 0\n",
    "        for a in jieba.cut_for_search(x):\n",
    "            a = a.strip()\n",
    "            # 如果他分出的词是赞美的话我就给等级加一\n",
    "            if a in tinyci:\n",
    "                num+=1\n",
    "        else:\n",
    "            if 1 <= num >=2:\n",
    "                return 1\n",
    "            elif 3 <= num >=4:\n",
    "                return 2\n",
    "            elif 5 <= num >=6:\n",
    "                return 3\n",
    "            elif 7 <= num >=8:\n",
    "                return 4\n",
    "            elif 9 <= num:\n",
    "                return 5\n",
    "            else:\n",
    "                return 0\n",
    "    else:\n",
    "        return 0\n",
    "\n",
    "data_pl['等级'] = data_pl['评论内容'].map(Comment)\n",
    "data_pl[data_pl['等级']>=1]"
   ],
   "metadata": {
    "collapsed": false,
    "pycharm": {
     "name": "#%%\n"
    }
   }
  },
  {
   "cell_type": "code",
   "execution_count": null,
   "outputs": [],
   "source": [],
   "metadata": {
    "collapsed": false,
    "pycharm": {
     "name": "#%%\n"
    }
   }
  }
 ],
 "metadata": {
  "kernelspec": {
   "display_name": "Python 3",
   "language": "python",
   "name": "python3"
  },
  "language_info": {
   "codemirror_mode": {
    "name": "ipython",
    "version": 2
   },
   "file_extension": ".py",
   "mimetype": "text/x-python",
   "name": "python",
   "nbconvert_exporter": "python",
   "pygments_lexer": "ipython2",
   "version": "2.7.6"
  }
 },
 "nbformat": 4,
 "nbformat_minor": 0
}