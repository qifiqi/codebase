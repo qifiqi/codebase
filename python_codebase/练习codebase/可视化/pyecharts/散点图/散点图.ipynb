{
 "cells": [
  {
   "cell_type": "markdown",
   "id": "cba1f916",
   "metadata": {},
   "source": [
    "## 散点图导包设置"
   ]
  },
  {
   "cell_type": "markdown",
   "id": "658ffaa8",
   "metadata": {},
   "source": [
    "#### 导包，清洗数据"
   ]
  },
  {
   "cell_type": "code",
   "execution_count": 3,
   "id": "cda1fabd",
   "metadata": {},
   "outputs": [],
   "source": [
    "import pandas as pd\n",
    "from pyecharts.charts import Scatter\n",
    "from pyecharts import options as opts\n"
   ]
  },
  {
   "cell_type": "markdown",
   "id": "b8e61ad7",
   "metadata": {},
   "source": [
    "### 清洗数据数据为全国疫情.csv "
   ]
  },
  {
   "cell_type": "code",
   "execution_count": 12,
   "id": "539b4b78",
   "metadata": {},
   "outputs": [
    {
     "name": "stdout",
     "output_type": "stream",
     "text": [
      "[['上海' 2887]\n",
      " ['黑龙江' 2026]\n",
      " ['云南' 1749]\n",
      " ['河南' 1637]\n",
      " ['江苏' 1619]\n",
      " ['浙江' 1504]\n",
      " ['河北' 1458]\n",
      " ['福建' 1323]\n",
      " ['四川' 1282]\n",
      " ['湖南' 1199]\n",
      " ['北京' 1195]\n",
      " ['内蒙古' 1059]\n",
      " ['山东' 1023]\n",
      " ['安徽' 1008]\n",
      " ['新疆' 981]\n",
      " ['江西' 959]\n",
      " ['辽宁' 786]\n",
      " ['陕西' 712]\n",
      " ['重庆' 610]\n",
      " ['吉林' 585]\n",
      " ['天津' 535]\n",
      " ['广西' 439]\n",
      " ['甘肃' 344]\n",
      " ['山西' 265]\n",
      " ['海南' 190]\n",
      " ['贵州' 159]]\n"
     ]
    }
   ],
   "source": [
    "data = pd.read_csv('../数据/疫情数据全国.csv')\n",
    "data = data.iloc[4:30,:].copy()\n",
    "data = data[['城市','累计确诊']].copy()\n",
    "data = data.values\n",
    "print(data)"
   ]
  },
  {
   "cell_type": "markdown",
   "id": "8dcff319",
   "metadata": {},
   "source": [
    "### 进行绘图"
   ]
  },
  {
   "cell_type": "code",
   "execution_count": 35,
   "id": "d6129c80",
   "metadata": {},
   "outputs": [],
   "source": [
    "data_x = [i[0]  for i in data]\n",
    "# data_x = [i  for i in range(len(data))]\n",
    "\n",
    "data_y = [i[1] for i in data]\n",
    "s=(\n",
    "    Scatter(init_opts=opts.InitOpts())\n",
    "    .add_xaxis(\n",
    "        xaxis_data=data_x,\n",
    "    )\n",
    "    .add_yaxis(\n",
    "        #系列名称\n",
    "        series_name='疫情数据',\n",
    "        #系列数据\n",
    "        y_axis=data_y,\n",
    "        # 标记的大小，可以设置成诸如 10 这样单一的数字，也可以用数组分开表示宽和高，\n",
    "        # 例如 [20, 10] 表示标记宽为 20，高为 10。\n",
    "        symbol_size=20,\n",
    "        #标签配置项\n",
    "        label_opts=opts.LabelOpts(is_show=True),\n",
    "        color='red',\n",
    "        \n",
    "    ) \n",
    "    .set_global_opts(\n",
    "        title_opts=opts.TitleOpts(title='疫情数据散点图'),\n",
    "        visualmap_opts=opts.VisualMapOpts(\n",
    "            is_show=True,\n",
    "            # 映射过渡类型，可选，\"color\", \"size\"\n",
    "            type_='size',    \n",
    "            # 指定 visualMapPiecewise 组件的最小值。\n",
    "            min_= 100,\n",
    "            # 指定 visualMapPiecewise 组件的最大值。\n",
    "            max_ = 3000,\n",
    "            # 两端的文本，如['High', 'Low']。\n",
    "            range_text=['高发地带','低概率地区']\n",
    "        ),\n",
    "        #这个是设置了x轴的刻度项\n",
    "        xaxis_opts=opts.AxisOpts(\n",
    "#             is_show=False,\n",
    "            # 坐标轴类型。可选：\n",
    "            # 'value': 数值轴，适用于连续数据。\n",
    "            # 'category': 类目轴，适用于离散的类目数据，为该类型时必须通过 data 设置类目数据。\n",
    "            # 'time': 时间轴，适用于连续的时序数据，与数值轴相比时间轴带有时间的格式化，在刻度计算上也有所不同，\n",
    "            # 例如会根据跨度的范围来决定使用月，星期，日还是小时范围的刻度。\n",
    "            # 'log' 对数轴。适用于对数数据。\n",
    "            type_='category',\n",
    "             # 分割线配置项，这里就设置了是不是显示\n",
    "            \n",
    "            splitline_opts=opts.SplitLineOpts(is_show=True)  \n",
    "        ),\n",
    "        yaxis_opts=opts.AxisOpts(\n",
    "#             同上\n",
    "            type_='value',\n",
    "#             坐标轴刻度配置项\n",
    "            axistick_opts=opts.AxisTickOpts(is_show=True),\n",
    "            #这个是分割线配置\n",
    "            splitline_opts=opts.SplitLineOpts(is_show=True),\n",
    "        ),\n",
    "#         工具箱配置项\n",
    "        tooltip_opts=opts.TooltipOpts(is_show=True),\n",
    "    )\n",
    "#     系列壁配置\n",
    "     .set_series_opts(\n",
    "        \n",
    "    )\n",
    "    \n",
    "    .render('疫情数据散点图.html')\n",
    ")\n",
    "# s.render_notebook()"
   ]
  },
  {
   "cell_type": "code",
   "execution_count": null,
   "id": "9b5bb162",
   "metadata": {},
   "outputs": [],
   "source": []
  }
 ],
 "metadata": {
  "kernelspec": {
   "display_name": "Python 3",
   "language": "python",
   "name": "python3"
  },
  "language_info": {
   "codemirror_mode": {
    "name": "ipython",
    "version": 3
   },
   "file_extension": ".py",
   "mimetype": "text/x-python",
   "name": "python",
   "nbconvert_exporter": "python",
   "pygments_lexer": "ipython3",
   "version": "3.8.8"
  }
 },
 "nbformat": 4,
 "nbformat_minor": 5
}
